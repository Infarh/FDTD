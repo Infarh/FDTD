{
 "nbformat": 4,
 "nbformat_minor": 2,
 "metadata": {
  "language_info": {
   "name": "python",
   "codemirror_mode": {
    "name": "ipython",
    "version": 3
   }
  },
  "orig_nbformat": 2,
  "file_extension": ".py",
  "mimetype": "text/x-python",
  "name": "python",
  "npconvert_exporter": "python",
  "pygments_lexer": "ipython3",
  "version": 3
 },
 "cells": [
  {
   "cell_type": "markdown",
   "metadata": {},
   "source": [
    "# Вывод математики для метода FDTD\n",
    "\n",
    "## Уравнения Максвелла для связи\n",
    "\n",
    "### Теорема Стокса\n",
    "\n",
    "$rot\\mathbf H=\\frac{\\partial \\mathbf D}{\\partial t}$\n",
    "\n",
    "$rot\\mathbf E=-\\frac{\\partial \\mathbf B}{\\partial t}$\n",
    "\n",
    "### Уравнения связи\n",
    "\n",
    "Электрическая индукция\n",
    "\n",
    "$\\mathbf D=\\varepsilon\\varepsilon_0 \\mathbf E$\n",
    "\n",
    "Магнитная индукция\n",
    "\n",
    "$\\mathbf B=\\mu\\mu_0 \\mathbf H$\n",
    "\n",
    "## Рзложение ротора\n",
    "\n",
    "$\n",
    "rot\\mathbf H=\n",
    "\\left | \\left.\\begin{matrix}\n",
    "i & j & k\\\\ \n",
    "\\frac{\\partial}{\\partial x} & \\frac{\\partial}{\\partial y} & \\frac{\\partial}{\\partial z}\\\\ \n",
    "\\mathbf H_x & \\mathbf H_y & \\mathbf H_z\n",
    "\\end{matrix}\\right| \\right .$$\n",
    "=\\begin{bmatrix}\n",
    "\\frac{\\partial \\mathbf H_z}{\\partial y} - \\frac{\\partial \\mathbf H_y}{\\partial z}\\\\ \n",
    "\\frac{\\partial \\mathbf H_x}{\\partial z} - \\frac{\\partial \\mathbf H_z}{\\partial x}\\\\ \n",
    "\\frac{\\partial \\mathbf H_y}{\\partial x} - \\frac{\\partial \\mathbf H_x}{\\partial y}\n",
    "\\end{bmatrix}$\n",
    "\n",
    "$\n",
    "rot\\mathbf E=\n",
    "\\left | \\left.\\begin{matrix}\n",
    "i & j & k\\\\ \n",
    "\\frac{\\partial}{\\partial x} & \\frac{\\partial}{\\partial y} & \\frac{\\partial}{\\partial z}\\\\ \n",
    "\\mathbf E_x & \\mathbf E_y & \\mathbf E_z\n",
    "\\end{matrix}\\right| \\right .$$\n",
    "=\\begin{bmatrix}\n",
    "\\frac{\\partial \\mathbf E_z}{\\partial y} - \\frac{\\partial \\mathbf E_y}{\\partial z}\\\\ \n",
    "\\frac{\\partial \\mathbf E_x}{\\partial z} - \\frac{\\partial \\mathbf E_z}{\\partial x}\\\\ \n",
    "\\frac{\\partial \\mathbf E_y}{\\partial x} - \\frac{\\partial \\mathbf E_x}{\\partial y}\n",
    "\\end{bmatrix}\n",
    "$"
   ]
  }
 ]
}